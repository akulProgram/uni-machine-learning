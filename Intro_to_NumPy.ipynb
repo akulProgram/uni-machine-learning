{
  "cells": [
    {
      "cell_type": "code",
      "execution_count": 1,
      "metadata": {},
      "outputs": [
        {
          "name": "stdout",
          "output_type": "stream",
          "text": [
            "Requirement already satisfied: numpy in c:\\users\\gamer\\appdata\\local\\programs\\python\\python310\\lib\\site-packages (1.26.4)\n",
            "Note: you may need to restart the kernel to use updated packages.\n"
          ]
        },
        {
          "name": "stderr",
          "output_type": "stream",
          "text": [
            "WARNING: You are using pip version 22.0.4; however, version 24.0 is available.\n",
            "You should consider upgrading via the 'c:\\Users\\Gamer\\AppData\\Local\\Programs\\Python\\Python310\\python.exe -m pip install --upgrade pip' command.\n"
          ]
        }
      ],
      "source": [
        "%pip install numpy"
      ]
    },
    {
      "cell_type": "code",
      "execution_count": 2,
      "metadata": {
        "id": "xD16yVXEp73f"
      },
      "outputs": [],
      "source": [
        "import numpy as np"
      ]
    },
    {
      "cell_type": "code",
      "execution_count": null,
      "metadata": {},
      "outputs": [],
      "source": [
        "a = 1\n",
        "c = 0\n",
        "start = datetime.now()\n",
        "for i in range(len(a)):\n",
        "    c+= a[i]*b[i]\n",
        "printf"
      ]
    },
    {
      "cell_type": "code",
      "execution_count": 3,
      "metadata": {
        "colab": {
          "base_uri": "https://localhost:8080/"
        },
        "id": "HEMNm0uHpyPq",
        "outputId": "67737ed0-5603-4870-bc0d-9f55fb193b58"
      },
      "outputs": [
        {
          "name": "stdout",
          "output_type": "stream",
          "text": [
            "OG Data: [1. 2. 3. 4. 5.]\n",
            "<class 'numpy.ndarray'>\n",
            "float64\n",
            "Altered Data: [1 2 3 4 5]\n",
            "<class 'numpy.ndarray'>\n",
            "int64\n"
          ]
        }
      ],
      "source": [
        "data = [1, 2, 3, 4, 5.0]\n",
        "data = np.array(data)\n",
        "print(f\"OG Data: {data}\")\n",
        "print(type(data))\n",
        "print(data.dtype)\n",
        "data = np.array(data, dtype=np.int64)\n",
        "print(f\"Altered Data: {data}\")\n",
        "print(type(data))\n",
        "print(data.dtype)"
      ]
    },
    {
      "cell_type": "code",
      "execution_count": 4,
      "metadata": {
        "colab": {
          "base_uri": "https://localhost:8080/"
        },
        "id": "sxZcPvqUp1PI",
        "outputId": "120be2e0-085e-4e62-cb11-005c4a186e09"
      },
      "outputs": [
        {
          "name": "stdout",
          "output_type": "stream",
          "text": [
            "[[0. 0. 0. 0. 0.]]\n"
          ]
        }
      ],
      "source": [
        "data = np.zeros((1,5))\n",
        "print(data)"
      ]
    },
    {
      "cell_type": "code",
      "execution_count": 5,
      "metadata": {
        "colab": {
          "base_uri": "https://localhost:8080/"
        },
        "id": "gTCxpE9Vp3SX",
        "outputId": "c973f0ad-3482-41d6-bb62-bec3cc1e9b1d"
      },
      "outputs": [
        {
          "name": "stdout",
          "output_type": "stream",
          "text": [
            "[[1. 1. 1.]\n",
            " [1. 1. 1.]\n",
            " [1. 1. 1.]]\n"
          ]
        }
      ],
      "source": [
        "data = np.ones((3,3))\n",
        "print(data)"
      ]
    },
    {
      "cell_type": "code",
      "execution_count": 6,
      "metadata": {
        "colab": {
          "base_uri": "https://localhost:8080/"
        },
        "id": "RDMiqs2_p-oX",
        "outputId": "11e447c0-23b1-4f5b-a029-c41eca374334"
      },
      "outputs": [
        {
          "name": "stdout",
          "output_type": "stream",
          "text": [
            "[[0.21812974 0.76604396 0.53895953 0.64078311 0.70032248]\n",
            " [0.62256702 0.53742207 0.92799493 0.80671891 0.70180771]\n",
            " [0.40589201 0.58330893 0.30841015 0.72756101 0.15071074]\n",
            " [0.36484066 0.19827042 0.65161823 0.42341016 0.58086872]\n",
            " [0.19821205 0.03039376 0.4626491  0.52702452 0.14403676]]\n"
          ]
        }
      ],
      "source": [
        "data = np.random.rand(5,5)\n",
        "print(data)"
      ]
    },
    {
      "cell_type": "code",
      "execution_count": 7,
      "metadata": {
        "colab": {
          "base_uri": "https://localhost:8080/"
        },
        "id": "2v--5qwRqDs0",
        "outputId": "70c2c95b-f027-4ff7-ea09-d5cfa3fe0075"
      },
      "outputs": [
        {
          "name": "stdout",
          "output_type": "stream",
          "text": [
            "[[1 1 1 1 1]\n",
            " [1 1 1 1 1]\n",
            " [1 1 1 1 1]\n",
            " [1 1 1 1 1]\n",
            " [1 1 1 1 1]]\n"
          ]
        }
      ],
      "source": [
        "data = np.full((5,5), 1)\n",
        "print(data)"
      ]
    },
    {
      "cell_type": "code",
      "execution_count": 9,
      "metadata": {
        "colab": {
          "base_uri": "https://localhost:8080/"
        },
        "id": "pR2rJHAbqLOs",
        "outputId": "2a8fc574-7a05-432f-936c-674f703dd320"
      },
      "outputs": [
        {
          "name": "stdout",
          "output_type": "stream",
          "text": [
            "[[1 2 4]\n",
            " [5 8 9]\n",
            " [6 3 7]]\n"
          ]
        }
      ],
      "source": [
        "data = np.array([\n",
        "    [1, 2, 4],\n",
        "    [5, 8, 9],\n",
        "    [6, 3, 7],\n",
        "])\n",
        "print(data)"
      ]
    },
    {
      "cell_type": "code",
      "execution_count": 10,
      "metadata": {
        "colab": {
          "base_uri": "https://localhost:8080/"
        },
        "id": "0qu1yYn9qnXa",
        "outputId": "6c07294a-6a4e-4093-9554-c9ba0d02e18d"
      },
      "outputs": [
        {
          "name": "stdout",
          "output_type": "stream",
          "text": [
            "2\n"
          ]
        }
      ],
      "source": [
        "print(data.ndim)"
      ]
    },
    {
      "cell_type": "code",
      "execution_count": 11,
      "metadata": {
        "colab": {
          "base_uri": "https://localhost:8080/"
        },
        "id": "PYF9Mc85qs8p",
        "outputId": "1bf25185-d450-4704-8df0-42796204ca06"
      },
      "outputs": [
        {
          "name": "stdout",
          "output_type": "stream",
          "text": [
            "rows: 3\n",
            "cols: 3\n"
          ]
        }
      ],
      "source": [
        "row, col = data.shape[:2]\n",
        "print(f\"rows: {row}\")\n",
        "print(f\"cols: {col}\")"
      ]
    },
    {
      "cell_type": "code",
      "execution_count": 12,
      "metadata": {
        "colab": {
          "base_uri": "https://localhost:8080/"
        },
        "id": "BL7kPuvTq1UX",
        "outputId": "1730f706-7265-491d-a335-9ac14a471329"
      },
      "outputs": [
        {
          "name": "stdout",
          "output_type": "stream",
          "text": [
            "[0 1 2 3 4 5 6 7 8]\n",
            "(9,)\n",
            "[[0 1 2]\n",
            " [3 4 5]\n",
            " [6 7 8]]\n",
            "[[0 1 2]\n",
            " [3 4 5]\n",
            " [6 7 8]]\n",
            "[[0 1 2]\n",
            " [3 4 5]\n",
            " [6 7 8]]\n"
          ]
        }
      ],
      "source": [
        "data = np.arange(9)\n",
        "print(data)\n",
        "print(data.shape)\n",
        "\n",
        "a = np.reshape(data, (3,3))\n",
        "print(a)\n",
        "\n",
        "b = np.reshape(data, (3,-1))\n",
        "print(b)\n",
        "\n",
        "c = np.reshape(data, (-1,3))\n",
        "print(c)"
      ]
    },
    {
      "cell_type": "code",
      "execution_count": 13,
      "metadata": {
        "colab": {
          "base_uri": "https://localhost:8080/"
        },
        "id": "piEZXDE9rVsI",
        "outputId": "480b71dc-6178-4d28-910e-4921d2ea2b9b"
      },
      "outputs": [
        {
          "name": "stdout",
          "output_type": "stream",
          "text": [
            "[[ 2  3  4  5  6]\n",
            " [ 7  8  9 10 11]]\n",
            "[[ 2  7]\n",
            " [ 3  8]\n",
            " [ 4  9]\n",
            " [ 5 10]\n",
            " [ 6 11]]\n"
          ]
        }
      ],
      "source": [
        "data = np.array([\n",
        "    [2, 3, 4, 5, 6],\n",
        "    [7, 8, 9, 10, 11]\n",
        "    ])\n",
        "print(data)\n",
        "\n",
        "data = np.transpose(data)\n",
        "print(data)"
      ]
    },
    {
      "cell_type": "code",
      "execution_count": 14,
      "metadata": {
        "colab": {
          "base_uri": "https://localhost:8080/"
        },
        "id": "qa1Oq_jGr25v",
        "outputId": "6f4c32d3-5458-48d8-b3aa-d89ae2b8e756"
      },
      "outputs": [
        {
          "name": "stdout",
          "output_type": "stream",
          "text": [
            "[ 1  2  3  4  5  6  7  8  9 10]\n",
            "5\n",
            "10\n",
            "[200   2   3   4   5   6   7   8   9  10]\n"
          ]
        }
      ],
      "source": [
        "data = np.array([1, 2, 3, 4, 5, 6, 7, 8, 9, 10])\n",
        "print(data)\n",
        "print(data[4])\n",
        "print(data[-1])\n",
        "data[0] = 200\n",
        "print(data)"
      ]
    },
    {
      "cell_type": "code",
      "execution_count": 15,
      "metadata": {
        "colab": {
          "base_uri": "https://localhost:8080/"
        },
        "id": "f5ExVr4TsWSF",
        "outputId": "a3542632-a456-45e4-fb75-5385193e29f2"
      },
      "outputs": [
        {
          "name": "stdout",
          "output_type": "stream",
          "text": [
            "9\n",
            "9\n",
            "[[ 5  6]\n",
            " [10 11]]\n"
          ]
        }
      ],
      "source": [
        "data = np.array([\n",
        "    [2, 3, 4, 5, 6],\n",
        "    [7, 8, 9, 10, 11]\n",
        "])\n",
        "\n",
        "print(data[1][2])\n",
        "print(data[1, 2])\n",
        "print(data[:, 3:])"
      ]
    },
    {
      "cell_type": "code",
      "execution_count": 16,
      "metadata": {
        "colab": {
          "base_uri": "https://localhost:8080/"
        },
        "id": "d7zmXFJQs59G",
        "outputId": "5829b21a-3da3-4517-9c11-880db092d6c1"
      },
      "outputs": [
        {
          "name": "stdout",
          "output_type": "stream",
          "text": [
            "[[[1 2 3 4 5 6]\n",
            "  [4 5 6 1 0 0]\n",
            "  [7 8 9 1 0 0]\n",
            "  [1 2 3 4 5 6]]\n",
            "\n",
            " [[1 2 3 4 5 6]\n",
            "  [4 5 6 1 0 0]\n",
            "  [7 8 9 1 0 0]\n",
            "  [1 2 3 4 5 6]]]\n",
            "[[5 6]\n",
            " [8 9]]\n"
          ]
        }
      ],
      "source": [
        "data = np.array([\n",
        "    [\n",
        "        [1, 2, 3, 4, 5, 6],\n",
        "        [4, 5, 6, 1, 0, 0],\n",
        "        [7, 8, 9, 1, 0, 0],\n",
        "        [1, 2, 3, 4, 5, 6]\n",
        "    ],\n",
        "    [\n",
        "        [1, 2, 3, 4, 5, 6],\n",
        "        [4, 5, 6, 1, 0, 0],\n",
        "        [7, 8, 9, 1, 0, 0],\n",
        "        [1, 2, 3, 4, 5, 6]\n",
        "    ]\n",
        "])\n",
        "\n",
        "print(data)\n",
        "print(data[0, 1:3, 1:3])"
      ]
    },
    {
      "cell_type": "code",
      "execution_count": 17,
      "metadata": {
        "colab": {
          "base_uri": "https://localhost:8080/"
        },
        "id": "KISEY7VOt9xD",
        "outputId": "f88a3ff4-1f43-43b6-82ad-aef742f11397"
      },
      "outputs": [
        {
          "name": "stdout",
          "output_type": "stream",
          "text": [
            "[0 1 2]\n",
            "[3 4 5]\n",
            "[0 1 2 3 4 5]\n",
            "[[0 1 2]\n",
            " [3 4 5]]\n",
            "[0 1 2 3 4 5]\n",
            "[0 1 2 3 4 5]\n"
          ]
        }
      ],
      "source": [
        "a = np.arange(3)\n",
        "b = np.arange(3, 6)\n",
        "print(a)\n",
        "print(b)\n",
        "\n",
        "print(np.hstack([a, b]))\n",
        "print(np.vstack([a, b]))\n",
        "\n",
        "print(np.concatenate([a, b], axis=0))\n",
        "print(np.concatenate([a, b]))"
      ]
    },
    {
      "cell_type": "code",
      "execution_count": 18,
      "metadata": {
        "colab": {
          "base_uri": "https://localhost:8080/"
        },
        "id": "EYeGSEBhu3yv",
        "outputId": "a08b3595-b23b-425c-b66a-faf977559efc"
      },
      "outputs": [
        {
          "name": "stdout",
          "output_type": "stream",
          "text": [
            "[[5 5 5 5]\n",
            " [5 5 5 5]\n",
            " [5 5 5 5]\n",
            " [5 5 5 5]]\n",
            "[[1]]\n",
            "[[6 6 6 6]\n",
            " [6 6 6 6]\n",
            " [6 6 6 6]\n",
            " [6 6 6 6]]\n"
          ]
        }
      ],
      "source": [
        "a = np.full((4, 4),5)\n",
        "b = np.full((1, 1),1)\n",
        "print(a)\n",
        "print(b)\n",
        "\n",
        "data = a + b\n",
        "print(data)"
      ]
    }
  ],
  "metadata": {
    "colab": {
      "provenance": [],
      "toc_visible": true
    },
    "kernelspec": {
      "display_name": "Python 3",
      "name": "python3"
    },
    "language_info": {
      "codemirror_mode": {
        "name": "ipython",
        "version": 3
      },
      "file_extension": ".py",
      "mimetype": "text/x-python",
      "name": "python",
      "nbconvert_exporter": "python",
      "pygments_lexer": "ipython3",
      "version": "3.10.5"
    }
  },
  "nbformat": 4,
  "nbformat_minor": 0
}

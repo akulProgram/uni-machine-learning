{
  "nbformat": 4,
  "nbformat_minor": 0,
  "metadata": {
    "colab": {
      "provenance": [],
      "toc_visible": true
    },
    "kernelspec": {
      "name": "python3",
      "display_name": "Python 3"
    },
    "language_info": {
      "name": "python"
    }
  },
  "cells": [
    {
      "cell_type": "code",
      "source": [
        "import numpy as np"
      ],
      "metadata": {
        "id": "xD16yVXEp73f"
      },
      "execution_count": null,
      "outputs": []
    },
    {
      "cell_type": "code",
      "source": [
        "data = [1, 2, 3, 4, 5.0]\n",
        "data = np.array(data)\n",
        "print(f\"OG Data: {data}\")\n",
        "print(type(data))\n",
        "print(data.dtype)\n",
        "data = np.array(data, dtype=np.int64)\n",
        "print(f\"Altered Data: {data}\")\n",
        "print(type(data))\n",
        "print(data.dtype)"
      ],
      "metadata": {
        "colab": {
          "base_uri": "https://localhost:8080/"
        },
        "id": "HEMNm0uHpyPq",
        "outputId": "67737ed0-5603-4870-bc0d-9f55fb193b58"
      },
      "execution_count": 19,
      "outputs": [
        {
          "output_type": "stream",
          "name": "stdout",
          "text": [
            "OG Data: [1. 2. 3. 4. 5.]\n",
            "<class 'numpy.ndarray'>\n",
            "float64\n",
            "Altered Data: [1 2 3 4 5]\n",
            "<class 'numpy.ndarray'>\n",
            "int64\n"
          ]
        }
      ]
    },
    {
      "cell_type": "code",
      "source": [
        "data = np.zeros((1,5))\n",
        "print(data)"
      ],
      "metadata": {
        "colab": {
          "base_uri": "https://localhost:8080/"
        },
        "id": "sxZcPvqUp1PI",
        "outputId": "120be2e0-085e-4e62-cb11-005c4a186e09"
      },
      "execution_count": 20,
      "outputs": [
        {
          "output_type": "stream",
          "name": "stdout",
          "text": [
            "[[0. 0. 0. 0. 0.]]\n"
          ]
        }
      ]
    },
    {
      "cell_type": "code",
      "source": [
        "data = np.ones((3,3))\n",
        "print(data)"
      ],
      "metadata": {
        "colab": {
          "base_uri": "https://localhost:8080/"
        },
        "id": "gTCxpE9Vp3SX",
        "outputId": "c973f0ad-3482-41d6-bb62-bec3cc1e9b1d"
      },
      "execution_count": 21,
      "outputs": [
        {
          "output_type": "stream",
          "name": "stdout",
          "text": [
            "[[1. 1. 1.]\n",
            " [1. 1. 1.]\n",
            " [1. 1. 1.]]\n"
          ]
        }
      ]
    },
    {
      "cell_type": "code",
      "source": [
        "data = np.random.rand(5,5)\n",
        "print(data)"
      ],
      "metadata": {
        "colab": {
          "base_uri": "https://localhost:8080/"
        },
        "id": "RDMiqs2_p-oX",
        "outputId": "11e447c0-23b1-4f5b-a029-c41eca374334"
      },
      "execution_count": 22,
      "outputs": [
        {
          "output_type": "stream",
          "name": "stdout",
          "text": [
            "[[0.09438848 0.06044209 0.79744661 0.47221346 0.4469577 ]\n",
            " [0.77944921 0.59801668 0.1614989  0.06438371 0.12950798]\n",
            " [0.55228272 0.71716961 0.53271706 0.42474133 0.86802593]\n",
            " [0.55462444 0.62098413 0.65543388 0.43552047 0.51992935]\n",
            " [0.7192309  0.98069888 0.13565724 0.81625906 0.13671494]]\n"
          ]
        }
      ]
    },
    {
      "cell_type": "code",
      "source": [
        "data = np.full((5,5), 1)\n",
        "print(data)"
      ],
      "metadata": {
        "colab": {
          "base_uri": "https://localhost:8080/"
        },
        "id": "2v--5qwRqDs0",
        "outputId": "70c2c95b-f027-4ff7-ea09-d5cfa3fe0075"
      },
      "execution_count": 24,
      "outputs": [
        {
          "output_type": "stream",
          "name": "stdout",
          "text": [
            "[[1 1 1 1 1]\n",
            " [1 1 1 1 1]\n",
            " [1 1 1 1 1]\n",
            " [1 1 1 1 1]\n",
            " [1 1 1 1 1]]\n"
          ]
        }
      ]
    },
    {
      "cell_type": "code",
      "source": [
        "data = np.array([\n",
        "    [1, 2, 4],\n",
        "    [5, 8, 9],\n",
        "    [6, 3, 7],\n",
        "])\n",
        "print(data)"
      ],
      "metadata": {
        "colab": {
          "base_uri": "https://localhost:8080/"
        },
        "id": "pR2rJHAbqLOs",
        "outputId": "2a8fc574-7a05-432f-936c-674f703dd320"
      },
      "execution_count": 27,
      "outputs": [
        {
          "output_type": "stream",
          "name": "stdout",
          "text": [
            "[[1 2 4]\n",
            " [5 8 9]\n",
            " [6 3 7]]\n"
          ]
        }
      ]
    },
    {
      "cell_type": "code",
      "source": [
        "print(data.ndim)"
      ],
      "metadata": {
        "colab": {
          "base_uri": "https://localhost:8080/"
        },
        "id": "0qu1yYn9qnXa",
        "outputId": "6c07294a-6a4e-4093-9554-c9ba0d02e18d"
      },
      "execution_count": 28,
      "outputs": [
        {
          "output_type": "stream",
          "name": "stdout",
          "text": [
            "2\n"
          ]
        }
      ]
    },
    {
      "cell_type": "code",
      "source": [
        "row, col = data.shape[:2]\n",
        "print(f\"rows: {row}\")\n",
        "print(f\"cols: {col}\")"
      ],
      "metadata": {
        "colab": {
          "base_uri": "https://localhost:8080/"
        },
        "id": "PYF9Mc85qs8p",
        "outputId": "1bf25185-d450-4704-8df0-42796204ca06"
      },
      "execution_count": 29,
      "outputs": [
        {
          "output_type": "stream",
          "name": "stdout",
          "text": [
            "rows: 3\n",
            "cols: 3\n"
          ]
        }
      ]
    },
    {
      "cell_type": "code",
      "source": [
        "data = np.arange(9)\n",
        "print(data)\n",
        "print(data.shape)\n",
        "\n",
        "a = np.reshape(data, (3,3))\n",
        "print(a)\n",
        "\n",
        "b = np.reshape(data, (3,-1))\n",
        "print(b)\n",
        "\n",
        "c = np.reshape(data, (-1,3))\n",
        "print(c)"
      ],
      "metadata": {
        "colab": {
          "base_uri": "https://localhost:8080/"
        },
        "id": "BL7kPuvTq1UX",
        "outputId": "1730f706-7265-491d-a335-9ac14a471329"
      },
      "execution_count": 36,
      "outputs": [
        {
          "output_type": "stream",
          "name": "stdout",
          "text": [
            "[0 1 2 3 4 5 6 7 8]\n",
            "(9,)\n",
            "[[0 1 2]\n",
            " [3 4 5]\n",
            " [6 7 8]]\n",
            "[[0 1 2]\n",
            " [3 4 5]\n",
            " [6 7 8]]\n",
            "[[0 1 2]\n",
            " [3 4 5]\n",
            " [6 7 8]]\n"
          ]
        }
      ]
    },
    {
      "cell_type": "code",
      "source": [
        "data = np.array([\n",
        "    [2, 3, 4, 5, 6],\n",
        "    [7, 8, 9, 10, 11]\n",
        "    ])\n",
        "print(data)\n",
        "\n",
        "data = np.transpose(data)\n",
        "print(data)"
      ],
      "metadata": {
        "colab": {
          "base_uri": "https://localhost:8080/"
        },
        "id": "piEZXDE9rVsI",
        "outputId": "480b71dc-6178-4d28-910e-4921d2ea2b9b"
      },
      "execution_count": 40,
      "outputs": [
        {
          "output_type": "stream",
          "name": "stdout",
          "text": [
            "[[ 2  3  4  5  6]\n",
            " [ 7  8  9 10 11]]\n",
            "[[ 2  7]\n",
            " [ 3  8]\n",
            " [ 4  9]\n",
            " [ 5 10]\n",
            " [ 6 11]]\n"
          ]
        }
      ]
    },
    {
      "cell_type": "code",
      "source": [
        "data = np.array([1, 2, 3, 4, 5, 6, 7, 8, 9, 10])\n",
        "print(data)\n",
        "print(data[4])\n",
        "print(data[-1])\n",
        "data[0] = 200\n",
        "print(data)"
      ],
      "metadata": {
        "colab": {
          "base_uri": "https://localhost:8080/"
        },
        "id": "qa1Oq_jGr25v",
        "outputId": "6f4c32d3-5458-48d8-b3aa-d89ae2b8e756"
      },
      "execution_count": 42,
      "outputs": [
        {
          "output_type": "stream",
          "name": "stdout",
          "text": [
            "[ 1  2  3  4  5  6  7  8  9 10]\n",
            "5\n",
            "10\n",
            "[200   2   3   4   5   6   7   8   9  10]\n"
          ]
        }
      ]
    },
    {
      "cell_type": "code",
      "source": [
        "data = np.array([\n",
        "    [2, 3, 4, 5, 6],\n",
        "    [7, 8, 9, 10, 11]\n",
        "])\n",
        "\n",
        "print(data[1][2])\n",
        "print(data[1, 2])\n",
        "print(data[:, 3:])"
      ],
      "metadata": {
        "colab": {
          "base_uri": "https://localhost:8080/"
        },
        "id": "f5ExVr4TsWSF",
        "outputId": "a3542632-a456-45e4-fb75-5385193e29f2"
      },
      "execution_count": 47,
      "outputs": [
        {
          "output_type": "stream",
          "name": "stdout",
          "text": [
            "9\n",
            "9\n",
            "[[ 5  6]\n",
            " [10 11]]\n"
          ]
        }
      ]
    },
    {
      "cell_type": "code",
      "source": [
        "data = np.array([\n",
        "    [\n",
        "        [1, 2, 3, 4, 5, 6],\n",
        "        [4, 5, 6, 1, 0, 0],\n",
        "        [7, 8, 9, 1, 0, 0],\n",
        "        [1, 2, 3, 4, 5, 6]\n",
        "    ],\n",
        "    [\n",
        "        [1, 2, 3, 4, 5, 6],\n",
        "        [4, 5, 6, 1, 0, 0],\n",
        "        [7, 8, 9, 1, 0, 0],\n",
        "        [1, 2, 3, 4, 5, 6]\n",
        "    ]\n",
        "])\n",
        "\n",
        "print(data)\n",
        "print(data[0, 1:3, 1:3])"
      ],
      "metadata": {
        "colab": {
          "base_uri": "https://localhost:8080/"
        },
        "id": "d7zmXFJQs59G",
        "outputId": "5829b21a-3da3-4517-9c11-880db092d6c1"
      },
      "execution_count": 56,
      "outputs": [
        {
          "output_type": "stream",
          "name": "stdout",
          "text": [
            "[[[1 2 3 4 5 6]\n",
            "  [4 5 6 1 0 0]\n",
            "  [7 8 9 1 0 0]\n",
            "  [1 2 3 4 5 6]]]\n",
            "[[5 6]\n",
            " [8 9]]\n"
          ]
        }
      ]
    },
    {
      "cell_type": "code",
      "source": [
        "a = np.arange(3)\n",
        "b = np.arange(3, 6)\n",
        "print(a)\n",
        "print(b)\n",
        "\n",
        "print(np.hstack([a, b]))\n",
        "print(np.vstack([a, b]))\n",
        "\n",
        "print(np.concatenate([a, b], axis=0))\n",
        "print(np.concatenate([a, b]))"
      ],
      "metadata": {
        "colab": {
          "base_uri": "https://localhost:8080/"
        },
        "id": "KISEY7VOt9xD",
        "outputId": "f88a3ff4-1f43-43b6-82ad-aef742f11397"
      },
      "execution_count": 63,
      "outputs": [
        {
          "output_type": "stream",
          "name": "stdout",
          "text": [
            "[0 1 2]\n",
            "[3 4 5]\n",
            "[0 1 2 3 4 5]\n",
            "[[0 1 2]\n",
            " [3 4 5]]\n",
            "[0 1 2 3 4 5]\n",
            "[0 1 2 3 4 5]\n"
          ]
        }
      ]
    },
    {
      "cell_type": "code",
      "source": [
        "a = np.full((4, 4),5)\n",
        "b = np.full((1, 1),1)\n",
        "print(a)\n",
        "print(b)\n",
        "\n",
        "data = a + b\n",
        "print(data)"
      ],
      "metadata": {
        "colab": {
          "base_uri": "https://localhost:8080/"
        },
        "id": "EYeGSEBhu3yv",
        "outputId": "a08b3595-b23b-425c-b66a-faf977559efc"
      },
      "execution_count": 64,
      "outputs": [
        {
          "output_type": "stream",
          "name": "stdout",
          "text": [
            "[[5 5 5 5]\n",
            " [5 5 5 5]\n",
            " [5 5 5 5]\n",
            " [5 5 5 5]]\n",
            "[[1]]\n",
            "[[6 6 6 6]\n",
            " [6 6 6 6]\n",
            " [6 6 6 6]\n",
            " [6 6 6 6]]\n"
          ]
        }
      ]
    }
  ]
}